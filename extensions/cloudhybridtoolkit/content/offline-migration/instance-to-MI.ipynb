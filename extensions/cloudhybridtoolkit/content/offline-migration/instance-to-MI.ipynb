{
    "metadata": {
        "kernelspec": {
            "name": "powershell",
            "display_name": "PowerShell"
        },
        "language_info": {
            "name": "powershell",
            "codemirror_mode": "shell",
            "mimetype": "text/x-sh",
            "file_extension": ".ps1"
        }
    },
    "nbformat_minor": 2,
    "nbformat": 4,
    "cells": [
        {
            "cell_type": "markdown",
            "source": [
                "Migrate SQL Server Instance to Azure SQL Managed Instance\n",
                "=============================================\n",
                "\n",
                "Description\n",
                "-----\n",
                "\n",
                "clone the configuration and data of a sql instance into a managed instance\n",
                ""
            ],
            "metadata": {
                "azdata_cell_guid": "43600853-57b3-4e60-a2a9-a28fb82af386"
            }
        },
        {
            "cell_type": "code",
            "source": [
                "Import-Module dbatools\r\n",
                "Import-Module Az.Resources\r\n",
                "Import-Module Az.Storage"
            ],
            "metadata": {
                "azdata_cell_guid": "1bbac90f-3257-44c9-a677-8ae4adff8472"
            },
            "outputs": [
                {
                    "name": "stdout",
                    "text": "",
                    "output_type": "stream"
                }
            ],
            "execution_count": 2
        },
        {
            "cell_type": "code",
            "source": [
                "$SourceServerName = \"sqltools2017-3\"\r\n",
                "$SourceDatabaseName = \"Keep_WideWorldImporters\""
            ],
            "metadata": {
                "azdata_cell_guid": "ff8767e2-1ae5-44e0-b852-c48d2c4e3689"
            },
            "outputs": [
                {
                    "name": "stdout",
                    "text": "",
                    "output_type": "stream"
                }
            ],
            "execution_count": 8
        },
        {
            "cell_type": "markdown",
            "source": [
                ""
            ],
            "metadata": {
                "azdata_cell_guid": "90f68701-8371-4d31-ad9b-7d79c85e7811"
            }
        },
        {
            "cell_type": "code",
            "source": [
                "Get-DbaProcess -SqlInstance $SourceServerName -Database $DatabaseName | \r\n",
                "Select Host, login, Program\r\n",
                ""
            ],
            "metadata": {
                "azdata_cell_guid": "1a5e42ff-239e-46ea-8e85-f0054d097ada"
            },
            "outputs": [
                {
                    "name": "stdout",
                    "text": "\nHost Login Program\n---- ----- -------\n     sa           \n\n\n",
                    "output_type": "stream"
                }
            ],
            "execution_count": 9
        },
        {
            "cell_type": "code",
            "source": [
                ""
            ],
            "metadata": {
                "azdata_cell_guid": "c935759f-efd2-4df5-8ac9-7b953c07f849"
            },
            "outputs": [],
            "execution_count": 0
        }
    ]
}